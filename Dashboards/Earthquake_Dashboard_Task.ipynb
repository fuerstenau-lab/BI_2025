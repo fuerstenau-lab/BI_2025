{
 "cells": [
  {
   "cell_type": "markdown",
   "id": "5ec4bcb2",
   "metadata": {},
   "source": [
    "### Earthquake Dashboard Task\n",
    "In this guided exercise, you'll build an interactive dashboard using Dash and real earthquake data. "
   ]
  },
  {
   "cell_type": "markdown",
   "id": "422946b5",
   "metadata": {},
   "source": [
    "### Part A: Setup\n",
    "\n",
    "Install required libraries if needed: <br>\n",
    "`conda install conda-forge::dash`\n",
    "#### 1. Load the Dataset"
   ]
  },
  {
   "cell_type": "code",
   "execution_count": null,
   "id": "0fd56994",
   "metadata": {},
   "outputs": [],
   "source": [
    "import pandas as pd\n",
    "df = pd.read_csv(\"earthquakes_last30d.csv\")\n",
    "df['time'] = pd.to_datetime(df['time'])\n",
    "df.head()"
   ]
  },
  {
   "cell_type": "markdown",
   "id": "d88e1cb8",
   "metadata": {},
   "source": [
    "### Part B: Build Your Dashboard\n",
    "Using `Dash`, create an interactive dashboard with the following components:"
   ]
  },
  {
   "cell_type": "markdown",
   "id": "f1f8e1ab",
   "metadata": {},
   "source": [
    "#### 1. Line plot: Time vs Magnitude\n",
    "Plot magnitude over time using Plotly."
   ]
  },
  {
   "cell_type": "markdown",
   "id": "e1a69318",
   "metadata": {},
   "source": [
    "#### 2. Line plot: Time vs Depth\n",
    "Plot depth over time."
   ]
  },
  {
   "cell_type": "markdown",
   "id": "d1abb8bc",
   "metadata": {},
   "source": [
    "#### 3. Map: Earthquake Locations\n",
    "Use a world map (e.g., `scatter_geo`) to show earthquake locations."
   ]
  },
  {
   "cell_type": "markdown",
   "id": "74837df9",
   "metadata": {},
   "source": [
    "#### 4. Time Filter Buttons\n",
    "Add a set of buttons or dropdown to filter by:\n",
    "- Today (May 29, 2025)\n",
    "- Last 7 days\n",
    "- Last 14 days\n",
    "- Last 30 days"
   ]
  },
  {
   "cell_type": "markdown",
   "id": "413db804",
   "metadata": {},
   "source": [
    "#### 5. Bonus Challenge: Interactivity on Map\n",
    "Display the `place` description on hover or click."
   ]
  },
  {
   "cell_type": "markdown",
   "id": "e1e9a357",
   "metadata": {},
   "source": [
    "### Part C: Extend Your Dashboard\n",
    "Add some of the following features:"
   ]
  },
  {
   "cell_type": "markdown",
   "id": "d0ac2e2e",
   "metadata": {},
   "source": [
    "- A summary card with:\n",
    "  - Total earthquakes\n",
    "  - Max magnitude\n",
    "  - Most frequently mentioned region (based on `place`)\n",
    "\n",
    "- A histogram of magnitudes\n",
    "\n",
    "- A dropdown to filter by region or magnitude range"
   ]
  },
  {
   "cell_type": "markdown",
   "id": "9c30cc0a",
   "metadata": {},
   "source": [
    "### Part D: Launch the Dashboard\n",
    "Use Dash’s built-in server to view the app locally:"
   ]
  },
  {
   "cell_type": "code",
   "execution_count": null,
   "id": "6254608f-45ba-4c3f-9ef7-fecf5e79fab3",
   "metadata": {},
   "outputs": [],
   "source": [
    "# Run app\n",
    "app.run_server(mode='inline')"
   ]
  },
  {
   "cell_type": "markdown",
   "id": "f2376bee-5e4d-4a6d-a618-90830b9e186b",
   "metadata": {},
   "source": [
    "### Part E: Deploy the Dashboard as a Webservice\n",
    "\n",
    "Now you should have succesfully built a dashboard. On your own computer, which is not very helpful to display data to other people...<br>\n",
    "If you want, you can try to deploy your dashboard to [Render.com](https://render.com) which offers a free webservice.\n",
    "\n",
    "https://earthquake-dashboard.onrender.com/"
   ]
  },
  {
   "cell_type": "markdown",
   "id": "b6a92f6f-1cc7-44d6-ada4-a28012d90f60",
   "metadata": {},
   "source": [
    "#### 1. Project Structure\n",
    "\n",
    "Create a local project folder that should include:\n",
    "\n",
    "your-dashboard/\n",
    "├── app.py # Your Dash app\n",
    "├── requirements.txt # Dependencies\n",
    "├── Procfile # Render startup command\n",
    "└── earthquakes_last30d.csv # your earthquake data\n",
    "\n",
    "Publish this folder as a public repository on your GitHub account."
   ]
  },
  {
   "cell_type": "markdown",
   "id": "3be7efea-5308-494f-a199-385831a5eae4",
   "metadata": {},
   "source": [
    "#### 2. app.py\n",
    "\n",
    "Here you want to include your dashboard data.\n",
    "Importantly, you have to expose your app to the server for [Gunicorn](https://gunicorn.org/) by adding the line in the following code box."
   ]
  },
  {
   "cell_type": "code",
   "execution_count": null,
   "id": "df2c38f9-f6d7-46a0-ab26-3b6006205c61",
   "metadata": {},
   "outputs": [],
   "source": [
    "from dash import Dash\n",
    "app = Dash(__name__)\n",
    "server = app.server  # ✅ Exposes Flask server for Gunicorn"
   ]
  },
  {
   "cell_type": "markdown",
   "id": "e15351a2-16e0-490b-b8e4-debae420aa57",
   "metadata": {},
   "source": [
    "At the bottom, you do not need to call `app.run_server()` anymore."
   ]
  },
  {
   "cell_type": "markdown",
   "id": "45c309d5-1d18-49ff-94fe-5eb54910e7cf",
   "metadata": {},
   "source": [
    "#### 3. Procfile\n",
    "This file tells Render how to start your app."
   ]
  },
  {
   "cell_type": "code",
   "execution_count": null,
   "id": "2c3a1993-f230-4cae-99a2-861f06af4856",
   "metadata": {},
   "outputs": [],
   "source": [
    "web: gunicorn app:server"
   ]
  },
  {
   "cell_type": "markdown",
   "id": "d44296f2-2657-47e1-a608-344dece43819",
   "metadata": {},
   "source": [
    "#### 4. requirements.txt\n",
    "List all your required packages. For a basic Dash app:"
   ]
  },
  {
   "cell_type": "code",
   "execution_count": null,
   "id": "825ac4ab-dae2-4c17-82b8-6aa5cf74f139",
   "metadata": {},
   "outputs": [],
   "source": [
    "dash\n",
    "pandas\n",
    "plotly\n",
    "gunicorn"
   ]
  },
  {
   "cell_type": "markdown",
   "id": "3a258837-114a-4837-b523-11cfff27f1d7",
   "metadata": {},
   "source": [
    "#### 5. Deploy to Render\n",
    "Create a free Render.com account.\n",
    "\n",
    "1) Click “New → Web Service”\n",
    "\n",
    "2) Connect your GitHub repo.\n",
    "\n",
    "3) Confirm these settings:\n",
    "\n",
    "4) Build Command: (leave blank)\n",
    "\n",
    "5) Start Command: `gunicorn app:server` (if you have not added a Procfile)\n",
    "\n",
    "It should look like this:<br>\n",
    "\n",
    "https://earthquake-dashboard.onrender.com/"
   ]
  },
  {
   "cell_type": "markdown",
   "id": "9be71607",
   "metadata": {},
   "source": [
    "### Resources\n",
    "- Dash tutorial: https://dash.plotly.com/introduction\n",
    "- Plotly express: https://plotly.com/python/plotly-express/\n",
    "- Earthquake data reference: USGS Earthquake Hazards Program"
   ]
  }
 ],
 "metadata": {
  "kernelspec": {
   "display_name": "Python 3 (ipykernel)",
   "language": "python",
   "name": "python3"
  },
  "language_info": {
   "codemirror_mode": {
    "name": "ipython",
    "version": 3
   },
   "file_extension": ".py",
   "mimetype": "text/x-python",
   "name": "python",
   "nbconvert_exporter": "python",
   "pygments_lexer": "ipython3",
   "version": "3.13.2"
  }
 },
 "nbformat": 4,
 "nbformat_minor": 5
}

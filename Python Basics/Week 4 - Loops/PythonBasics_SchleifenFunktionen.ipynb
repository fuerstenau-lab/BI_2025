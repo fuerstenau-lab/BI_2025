{
 "cells": [
  {
   "cell_type": "markdown",
   "metadata": {},
   "source": [
    "# Übungsblatt für Veranstaltung am 22.5.2025:\n",
    "\n",
    "# Schleifen und Funktionen in Python\n",
    "\n",
    "Dieses Übungsblatt behandelt weitere wichtige Grundlagen in Python. Diese sind besonders relevant dafür, komplexere Programme schreiben zu können. Konkret lernst du kennen…\n",
    "\n",
    "- wie mittels while- und for-Schleifen Code mehrfach ausgeführt werden kann\n",
    "- wie Teile des Codes in Funktionen auslagert werden können, um Übersichtlichkeit zu behalten\n"
   ]
  },
  {
   "cell_type": "markdown",
   "metadata": {},
   "source": [
    "# 1 Schleifen\n",
    "\n",
    "Wenn in einem Programm mehrfach dieselbe Aktion (oder eine Abfolge sehr ähnlicher Aktionen) durchgeführt werden soll, bieten sich Schleifen an. Codeblöcke, die innerhalb einer Schleife stehen, werden - je nach Art der Schleife - mehrfach, unendlich oft oder gar nicht ausgeführt. \n",
    "\n",
    "## 1.1  For-Schleifen: Grundlagen und \"Range\"\n",
    "\n",
    "Wenn im Vorherein bekannt ist, wie oft ein Code-Block wiederholt ausgeführt werden soll, eignet sich eine for-Schleife. Oft werden Index- bzw. Zählvariablen in solchen Schleifen verwendet, die angeben, wie oft die Schleife durchlaufen wird. Im folgenden Beispiel ist die Zählvariable ``j``. Der sehr einfache Code innerhalb der Schleife ( ``print(j)`` ) gibt den Wert der Zählvariable in jedem Durchlauf an.\n"
   ]
  },
  {
   "cell_type": "code",
   "execution_count": 1,
   "metadata": {},
   "outputs": [
    {
     "name": "stdout",
     "output_type": "stream",
     "text": [
      "0\n",
      "1\n",
      "2\n"
     ]
    }
   ],
   "source": [
    "for j in range(0,3,1): \n",
    "    print(j)"
   ]
  },
  {
   "cell_type": "markdown",
   "metadata": {},
   "source": [
    "Der Teil ``range()`` oben im Schleifenkopf gibt an, von wo bis wo die Zählvariable laufen soll. Nennen wir die drei Parameter in der Klammer von ``range()`` a, b und c. In unserem Beispiel ist ``range(a=0, b=3, c=1)``. Dadurch fängt j bei 0 (der Wert von a) an zu zählen und zählt in Einerschritten aufwärts (der Wert von c). Die Schleife bricht ab, sobald der Wert von b (3) erreicht ist, weshalb bei <b>b-1 = 2</b> (!) das letzte Mal der print-Codeblock innerhalb der Schleife ausführt wird. Danach nimmt ``j`` den Wert 3 an und die Schleife bricht ab."
   ]
  },
  {
   "cell_type": "markdown",
   "metadata": {},
   "source": [
    "<div class=\"alert alert-block alert-warning\">\n",
    "<font size=\"3\"><b>Aufgabe 1a:</b></font>\n",
    "\n",
    "Um dies zu verinnerlichen, nimm die Schleife aus dem Beispiel und verändere den <b>range( )</b> Teil. Was passiert bei...\n",
    "- range (1,3,1) ?\n",
    "- range (0,4,1) ?\n",
    "- range (0,4,2) ?\n",
    "\n",
    "Spannend wird, es wenn c negativ ist. Probiere die Scheife mit:\n",
    "- range (0,4,-1)\n",
    "- range (4,0,-1)"
   ]
  },
  {
   "cell_type": "code",
   "execution_count": null,
   "metadata": {},
   "outputs": [],
   "source": []
  },
  {
   "cell_type": "markdown",
   "metadata": {},
   "source": [
    "<div class=\"alert alert-block alert-warning\">\n",
    "<font size=\"3\"><b>Aufgabe 1b:</b></font>\n",
    "\n",
    "Programmiere nun analog zu den for-Schleifen aus Aufgabe 1a eine Schleife, die hintereinander alle durch 3 teilbaren Zahlen zwischen 6 und 15 ausgibt. Dabei sollen auch 6 und 15 ausgegeben werden."
   ]
  },
  {
   "cell_type": "code",
   "execution_count": null,
   "metadata": {},
   "outputs": [],
   "source": []
  },
  {
   "cell_type": "markdown",
   "metadata": {},
   "source": [
    "<div class=\"alert alert-block alert-warning\">\n",
    "<font size=\"3\"><b>Aufgabe 1c:</b></font>\n",
    "\n",
    "Programmiere nun eine Schleife, die dieselben Zahlen rückwärts ausgibt."
   ]
  },
  {
   "cell_type": "code",
   "execution_count": null,
   "metadata": {},
   "outputs": [],
   "source": []
  },
  {
   "cell_type": "markdown",
   "metadata": {},
   "source": [
    "<div class=\"alert alert-block alert-info\">\n",
    "<font size=\"3\"><b>Tipp:<b></font> In vielen Fällen zählt man in Schleifen in Einerschritten von 0 bis x. Die vollständige Range dafür lautet eigentlich <b>range(0, x+1, 1)</b>. Da a = 0 (Anfang des Zählbereiches) und c = 1 (Schrittgröße der Zählvariable) aber der Default ist, reicht auch der Befehl <b>range(x+1)</b>. Das heißt: Ist nur eine Zahl in der Range angegeben, zählt Python automatisch von der 0 ausgehend in Einerschritten. Im folgenden Beispiel von 0 bis 2."
   ]
  },
  {
   "cell_type": "code",
   "execution_count": 3,
   "metadata": {},
   "outputs": [
    {
     "name": "stdout",
     "output_type": "stream",
     "text": [
      "0\n",
      "1\n",
      "2\n"
     ]
    }
   ],
   "source": [
    "for i in range(3):\n",
    "    print(i)"
   ]
  },
  {
   "cell_type": "markdown",
   "metadata": {},
   "source": [
    "<div class=\"alert alert-block alert-info\">\n",
    "Und als Beweis, dass es sich wirklich um identische Ranges handelt:"
   ]
  },
  {
   "cell_type": "code",
   "execution_count": 4,
   "metadata": {},
   "outputs": [
    {
     "data": {
      "text/plain": [
       "True"
      ]
     },
     "execution_count": 4,
     "metadata": {},
     "output_type": "execute_result"
    }
   ],
   "source": [
    "range(3) == range(0,3,1)"
   ]
  },
  {
   "cell_type": "markdown",
   "metadata": {},
   "source": [
    "<div class=\"alert alert-block alert-warning\">\n",
    "<font size=\"3\"><b>Aufgabe 1d:</b></font>\n",
    "\n",
    "Programmiere eine Schleife, die die Fakultät der Zahl 5 berechnet. Nachdem die Schleife beendet ist, soll das Ergebnis ausgegeben werden. Tipp: Neben der Schleife mit ihrer Zählvariablen brauchst du noch eine weitere Variable, um Zwischenergebnisse zu speichern."
   ]
  },
  {
   "cell_type": "code",
   "execution_count": null,
   "metadata": {},
   "outputs": [],
   "source": []
  },
  {
   "cell_type": "markdown",
   "metadata": {},
   "source": [
    "<div class=\"alert alert-block alert-warning\">\n",
    "<font size=\"3\"><b>Aufgabe 1e:</b></font>\n",
    "\n",
    "Schreibe eine Schleife, welche alle <b>ungeraden</b> Zahlen zwischen 1 und 10 addiert (d.h. inklusive der Zahl 1). Danach soll das Ergebnis ausgegeben werden."
   ]
  },
  {
   "cell_type": "code",
   "execution_count": null,
   "metadata": {},
   "outputs": [],
   "source": []
  },
  {
   "cell_type": "markdown",
   "metadata": {},
   "source": [
    "## 1.2 For-Schleifen: Weitere Anwendungen"
   ]
  },
  {
   "cell_type": "markdown",
   "metadata": {},
   "source": [
    "Der Syntax `` for ... in ... `` muss nicht zwingend mit einer Range oder einer Zählvariable verwendet werden. Grob gesagt kann fast alles in Python, was <b>mehrere Elemente</b> enthält, mit einer `` for ... in ... `` Schleife durchlaufen (iteriert) werden. Beispielsweise bestehen Strings aus mehreren Elementen, nämlich einzelnen Buchstaben und Satzzeichen. Mit einer Schleife könnte ein String also Zeichen für Zeichen durchlaufen werden."
   ]
  },
  {
   "cell_type": "code",
   "execution_count": 5,
   "metadata": {},
   "outputs": [
    {
     "name": "stdout",
     "output_type": "stream",
     "text": [
      "W\n",
      "o\n",
      "r\n",
      "t\n"
     ]
    }
   ],
   "source": [
    "text = \"Wort\"\n",
    "\n",
    "for buchstabe in text:\n",
    "    print(buchstabe)"
   ]
  },
  {
   "cell_type": "markdown",
   "metadata": {},
   "source": [
    "<div class=\"alert alert-block alert-warning\">\n",
    "<font size=\"3\"><b>Aufgabe 2a:</b></font>\n",
    "\n",
    "Schreibe eine Schleife, welche einen String durchläuft und zählt, wie oft der Buchstabe 'e' im String vorkommt. Zum Schluss soll diese Anzahl ausgegeben werden."
   ]
  },
  {
   "cell_type": "code",
   "execution_count": 1,
   "metadata": {},
   "outputs": [],
   "source": [
    "neuer_text = \"Testwortzusammensetzung\" \n",
    "anzahl_e = 0 # Hier soll gespeichert werden, wie oft der Buchstabe 'e' vorkommt\n",
    "\n",
    "######### Ab hier implementieren ########\n"
   ]
  },
  {
   "cell_type": "markdown",
   "metadata": {},
   "source": [
    "<div class=\"alert alert-block alert-info\">\n",
    "<font size=\"3\"><b>Tipp:<b></font> Ein Textdokument kann ebenfalls als Objekt aus mehreren Elementen gesehen werden. Wendet man eine for-Schleife auf ein .txt-Dokument in Python an, dann wird das Dokument nicht Buchstabe für Buchstabe, sondern Zeile für Zeile durchgegangen (\"for zeile in dokument: ...\"). Wenn du Interesse daran hast, wie ein Text-Dokument in Python geöffnet wird, um es Zeile für Zeile auszugeben oder zu analysieren, findest du hierzu (und zu ähnlichen Themen) weiterführende Informationen auf Webseiten wie stackoverflow.com. "
   ]
  },
  {
   "cell_type": "code",
   "execution_count": 60,
   "metadata": {},
   "outputs": [
    {
     "name": "stdout",
     "output_type": "stream",
     "text": [
      "This is a test document.\n",
      "\n",
      "\n",
      "\n",
      "It contains multiple rows which can be addressed by a for loop in Python.\n",
      "\n",
      "See for yourself!\n"
     ]
    }
   ],
   "source": [
    "# So könnte eine mögliche Lösung aussehen:\n",
    "\n",
    "# with open(\"Dateipfad_zu_deinem_Textdokument\") as dokument:\n",
    "    # for zeile in dokument:\n",
    "        # print(zeile)"
   ]
  },
  {
   "cell_type": "markdown",
   "metadata": {},
   "source": [
    "## 1.3 While-Schleifen\n",
    "\n",
    "Wenn du in deinem Programm einen Codeblock mehrfach ausführen möchtest, aber im **vorherein nicht weißt, wie oft**, eignet sich eine for-Schleife nicht mehr. Stattdessen sollte hier eine while-Schleife verwendet werden.\n",
    "\n",
    "Eine while-Schleife benötigt eine logische Bedingung, die wahr oder falsch sein kann: `` while Bedingung: ... ``. Der Codeblock innerhalb der Schleife wird dann so lange ausgeführt, wie die Bedingung wahr ist. "
   ]
  },
  {
   "cell_type": "code",
   "execution_count": 6,
   "metadata": {},
   "outputs": [
    {
     "name": "stdout",
     "output_type": "stream",
     "text": [
      "1\n",
      "2\n",
      "3\n"
     ]
    }
   ],
   "source": [
    "i = 1\n",
    "\n",
    "# i wird in jedem Durchlauf der Schleife um 1 erhöht (beginnt bei 1).\n",
    "# Dies wird wiederholt, so lange i kleiner als 4 ist.\n",
    "# Nach dem 3. Schritt wird i auf 4 erhöht und die Schleife bricht ab.\n",
    "\n",
    "while i < 4:\n",
    "    print(i)\n",
    "    i += 1"
   ]
  },
  {
   "cell_type": "markdown",
   "metadata": {},
   "source": [
    "<div class=\"alert alert-block alert-warning\">\n",
    "<font size=\"3\"><b>Aufgabe 3a:</b></font>\n",
    "\n",
    "Da while-Schleifen sehr generisch sind, kann jede Art von for-Schleife auch als while-Schleife ausgedrückt werden. Schreibe die for-Schleife aus Aufgabe 1c als while-Schleife um."
   ]
  },
  {
   "cell_type": "code",
   "execution_count": null,
   "metadata": {},
   "outputs": [],
   "source": []
  },
  {
   "cell_type": "markdown",
   "metadata": {},
   "source": [
    "<div class=\"alert alert-block alert-warning\">\n",
    "<font size=\"3\"><b>Aufgabe 3b:</b></font>\n",
    "\n",
    "Mit den ersten 3 Zeilen der nächsten Zelle wird die Nutzerin oder der Nutzer dazu aufgefordert, eine Uhrzeit zwischen 0:00 und 23:59 als Text einzugeben. Danach wird aus dieser Eingabe die eingegebene Stunde sowie die Minute extrahiert. Schreibe eine Schleife, die - für den Fall, dass eine ungültige Uhrzeit eingegeben wird, bspw. 0:60 - diesen Prozess so lange wiederholt, bis eine gültige Zahl eingegeben wurde."
   ]
  },
  {
   "cell_type": "code",
   "execution_count": null,
   "metadata": {},
   "outputs": [],
   "source": [
    "x = str(input(\"Bitte eine Uhrzeit zwischen 0:00 und 23:59 eingeben... \"))\n",
    "stunde = int(x.split(\":\")[0])\n",
    "minute = int(x.split(\":\")[1])\n",
    "\n",
    "###### Ab hier implementieren ########\n",
    "\n"
   ]
  },
  {
   "cell_type": "markdown",
   "metadata": {},
   "source": [
    "## 1.4 Break und Continue\n",
    "\n",
    "Manchmal kommt es bei Schleifen vor, dass bestimmte Durchläufe übersprungen werden sollen. Es kann auch vorkommen, dass die Schleife abbrechen soll, bevor ihr eigentliches Abbruchkriterium erreicht ist. Hier helfen die Befehle ``continue`` und ``break`` weiter.\n"
   ]
  },
  {
   "cell_type": "markdown",
   "metadata": {},
   "source": [
    "<div class=\"alert alert-block alert-warning\">\n",
    "<font size=\"3\"><b>Aufgabe 4a:</b></font>\n",
    "\n",
    "Schreibe eine Schleife, die wieder durch den einen String iteriert. Dieses Mal soll das Wort Buchstabe für Buchstabe ausgegeben werden ( ``print()`` ). Sobald der Buchstabe \"o\" gefunden wurde, soll der Befehl `` continue `` verwendet werden. Überprüfe, welches Verhalten die Schleife dadurch ausführt. Danach, probiere es mit `` break ``."
   ]
  },
  {
   "cell_type": "code",
   "execution_count": 5,
   "metadata": {},
   "outputs": [],
   "source": [
    "neuer_text = \"Testwort\"\n",
    "\n",
    "for buchstabe in neuer_text:\n",
    "    \n",
    "######### Ab hier implementieren ########\n",
    "\n",
    "    pass"
   ]
  },
  {
   "cell_type": "markdown",
   "metadata": {},
   "source": [
    "## 2 Funktionen\n",
    "\n",
    "Je länger ein Programm wird, desto wichtiger ist eine Strukturierung des Codes mit Funktionen. Eine Funktion wird in Python mit dem Syntax ``def funktionsname(Funktionsparameter):`` definiert. Eine Funktion bekommt im Regelfall bestimmte Parameter als Eingabewerte übergeben, verarbeitet diese und gibt die Ergebnisse der Verarbeitung als Ausgabewerte mit ``return`` zurück. Die folgende Funktion ermittelt, ob eine beliebig eingegebene Zahl x gerade ist:"
   ]
  },
  {
   "cell_type": "code",
   "execution_count": 10,
   "metadata": {},
   "outputs": [],
   "source": [
    "def even(x): # Name der Funktion: even. Kann eine beliebige Zahl x verarbeiten. \n",
    "    return x%2 == 0 # Rückgabewert der Funktion: Boolean (True, wenn die Zahl gerade ist)."
   ]
  },
  {
   "cell_type": "markdown",
   "metadata": {},
   "source": [
    "Der große Vorteil von Funktionen ist ihre Wiederverwendbarkeit. Ist eine Funktion einmal geschrieben, kann sie danach beliebig oft verwendet werden, ohne den Code innerhalb der Funktion neu schreiben zu müssen."
   ]
  },
  {
   "cell_type": "code",
   "execution_count": 11,
   "metadata": {},
   "outputs": [
    {
     "name": "stdout",
     "output_type": "stream",
     "text": [
      "True\n",
      "True\n",
      "False\n"
     ]
    }
   ],
   "source": [
    "print(even(2)) # Die Funktion wird mit der Zahl x = 2 aufgerufen\n",
    "print(even(4)) # Die Funktion wird mit der Zahl x = 4 aufgerufen\n",
    "print(even(1)) # Die Funktion wird mit der Zahl x = 1 aufgerufen"
   ]
  },
  {
   "cell_type": "markdown",
   "metadata": {},
   "source": [
    "Natürlich können Funktionen auch mehrere Parameter übergeben bekommen. Die folgende Funktion bekommt als Eingabe zwei Strings und verkettet sie miteinander, wobei der kürzere beider Strings vorne im Ergebnis steht."
   ]
  },
  {
   "cell_type": "code",
   "execution_count": 7,
   "metadata": {},
   "outputs": [],
   "source": [
    "def combine_strings(string_a, string_b):\n",
    "    if len(string_a) <= len(string_b):\n",
    "        return string_a + string_b\n",
    "    else:\n",
    "        return string_b + string_a"
   ]
  },
  {
   "cell_type": "code",
   "execution_count": 8,
   "metadata": {},
   "outputs": [
    {
     "data": {
      "text/plain": [
       "'SommerSemester'"
      ]
     },
     "execution_count": 8,
     "metadata": {},
     "output_type": "execute_result"
    }
   ],
   "source": [
    "combine_strings(\"Semester\", \"Sommer\")"
   ]
  },
  {
   "cell_type": "markdown",
   "metadata": {},
   "source": [
    "<div class=\"alert alert-block alert-info\">\n",
    "<font size=\"3\"><b>Achtung:<b></font> Variablen innerhalb von Funktionen sind lokal. Das bedeutet, dass sie nur innerhalb der Funktion existieren und Variablen außerhalb von ihr nicht verändern können. Das folgende Beispiel verdeutlicht, dass das x innerhalb der Funktion nicht dasselbe x ist, welches außerhalb der Funktion auf 2 gesetzt wird. Dieses \"äußere\" x bleibt unverändert."
   ]
  },
  {
   "cell_type": "code",
   "execution_count": 14,
   "metadata": {},
   "outputs": [
    {
     "name": "stdout",
     "output_type": "stream",
     "text": [
      "2\n"
     ]
    }
   ],
   "source": [
    "def increase(x):\n",
    "    x = x + 1\n",
    "\n",
    "x = 2\n",
    "increase(x)\n",
    "print(x)"
   ]
  },
  {
   "cell_type": "markdown",
   "metadata": {},
   "source": [
    "<div class=\"alert alert-block alert-warning\">\n",
    "<font size=\"3\"><b>Aufgabe 5a:</b></font>\n",
    "\n",
    "Das Problem der lokalen Variablen lässt sich leicht beheben. Wie müsste der Code der obigen Zelle angepasst werden, damit das \"äußere\" x nach dem Aufruf der Funktion ``increase(x) `` auch wirklich auf 3 verändert wird? Hinweis: Beachte, dass in der Funktion aktuell noch kein `` return `` steht."
   ]
  },
  {
   "cell_type": "code",
   "execution_count": null,
   "metadata": {},
   "outputs": [],
   "source": []
  },
  {
   "cell_type": "markdown",
   "metadata": {},
   "source": [
    "<div class=\"alert alert-block alert-warning\">\n",
    "<font size=\"3\"><b>Aufgabe 5b:</b></font>\n",
    "\n",
    "In Aufgabe 1d solltest du eine Schleife schreiben, die die Faktultät der Zahl 5 berechnet. Natürlich wäre es deutlich schöner, wenn diese Schleife für jede beliebige Zahl funktionieren würde. Schreibe also eine Funktion `` fakultaet(t) ``, die eine Zahl t übergeben bekommt und als Ergebnis mit `` return `` die Fakultät dieser Zahl zurückgibt."
   ]
  },
  {
   "cell_type": "code",
   "execution_count": null,
   "metadata": {},
   "outputs": [],
   "source": []
  },
  {
   "cell_type": "markdown",
   "metadata": {},
   "source": [
    "<div class=\"alert alert-block alert-warning\">\n",
    "<font size=\"3\"><b>Aufgabe 5c:</b></font>\n",
    "\n",
    "Schreibe eine Funktion `` schaltjahr(n)) ``, die eine Jahreszahl n übergeben bekommt. Handelt es sich bei dem Jahr um ein Schaltjahr, soll ein entsprechender String zurückgegeben werden. Versuche, die Funktion so kurz wie möglich zu halten!\n",
    "\n",
    "Beispiel: print (schaltjahr(2004)) --> \"Das Jahr 2004 ist ein Schaltjahr\"\n",
    "\n",
    "Hinweis: Ist die Jahreszahl durch vier teilbar, aber nicht durch 100, ist es ein Schaltjahr. Ist die Jahreszahl durch 100 teilbar, aber nicht durch 400, ist es kein Schaltjahr."
   ]
  },
  {
   "cell_type": "code",
   "execution_count": null,
   "metadata": {},
   "outputs": [],
   "source": []
  },
  {
   "cell_type": "markdown",
   "metadata": {},
   "source": [
    "<div class=\"alert alert-block alert-warning\">\n",
    "<font size=\"3\"><b>Aufgabe 5d:</b></font>\n",
    "\n",
    "Was Funktionsparameter angeht, ist Python sehr flexibel. Es gibt bspw. eine Möglichkeit, Funktionen zu schreiben, die mehrere Parameter gleichzeitig verarbeiten können - ohne dass davor festgelegt werden muss, wie viele genau. Informiere dich online darüber, wie man in Funktionsdefinitionen `` *args `` innerhalb der Klammern verwenden kann. Schreibe dann eine Funktion, die die Buchstaben der Strings zählt, mit denen sie aufgerufen wird.\n",
    "\n",
    "Beispiel (die Funktion count_letters wurde nur ein mal definiert und kann dennoch unterschiedlich viele Strings verarbeiten!):\n",
    "\n",
    "`` count_letters() `` --> 0\n",
    "\n",
    "`` count_letters(\"Yeah\") `` --> 4\n",
    "\n",
    "`` count_letters(\"Oh\", \"Yeah\") `` --> 6"
   ]
  },
  {
   "cell_type": "code",
   "execution_count": null,
   "metadata": {},
   "outputs": [],
   "source": []
  },
  {
   "cell_type": "markdown",
   "metadata": {},
   "source": [
    "<div class=\"alert alert-block alert-success\">\n",
    "<b>Klasse! </b> Du hast mit diesem Übungsblatt weitere, wichtige Python-Werkzeuge kennen gelernt, die für größere Programme unabdingbar sind.  \n",
    "<br>\n",
    " \n",
    "Die wichtigsten Punkte dieses Kapitels findest du in der untenstehenden Zusammenfassung:\n",
    "</div>"
   ]
  },
  {
   "cell_type": "markdown",
   "metadata": {},
   "source": [
    "<div class=\"alert alert-block alert-info\">\n",
    "<font size=\"3\"><b>Du hast gelernt:<b></font>\n",
    "    \n",
    "- Dass for-Schleifen verwendet werden können, um Codeblöcke mehrfach auszuführen.\n",
    "- Dass mit den Parametern in range( ) eingestellt werden kann, von wo bis wo und in welcher Schrittlänge die Zählvariable mitzählt.\n",
    "- Dass for-Schleifen nicht nur Zahlenbereiche, sondern auch Objekte mit mehreren Elementen \"durchlaufen\" können.\n",
    "- Dass while-Schleifen nochmals mehr Flexibilität bieten als for-Schleifen! \n",
    "- Wie Schleifendurchläufe unterbrochen werden können oder wie die Schleife komplett stoppt.\n",
    "- Wie Funktionen verwendet werden, um bestimmte Routinen aus dem eigenen Code auszulagern und dass immer wieder auf die Funktion zugegriffen werden kann, sobald sie einmal definiert ist."
   ]
  }
 ],
 "metadata": {
  "kernelspec": {
   "display_name": "Python 3 (ipykernel)",
   "language": "python",
   "name": "python3"
  },
  "language_info": {
   "codemirror_mode": {
    "name": "ipython",
    "version": 3
   },
   "file_extension": ".py",
   "mimetype": "text/x-python",
   "name": "python",
   "nbconvert_exporter": "python",
   "pygments_lexer": "ipython3",
   "version": "3.9.13"
  }
 },
 "nbformat": 4,
 "nbformat_minor": 2
}

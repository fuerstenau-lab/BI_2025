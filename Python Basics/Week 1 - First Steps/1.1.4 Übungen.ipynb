{
 "cells": [
  {
   "cell_type": "markdown",
   "metadata": {},
   "source": [
    "# 1.1 Python als Taschenrechner\n",
    "\n",
    "## 1.1.4 Übungen\n",
    "\n",
    "In den folgenden zwei Übungen wendest du praktisch an, was du bisher gelernt hast.  \n",
    "<br>\n",
    "Viel Spaß dabei!\n",
    "\n",
    "Im Anschluss daran sind die wichtigsten Punkte zu \"Python als Taschenrechner\" in einer kompletten Zusammenfassung für dich aufgelistet."
   ]
  },
  {
   "cell_type": "markdown",
   "metadata": {},
   "source": [
    "## 1.1.4.1 Firmenverkauf\n",
    "\n",
    "<div class=\"alert alert-block alert-warning\">\n",
    "<font size=\"3\"><b>Übung:</b></font> Du hast zusammen mit 3 Freunden eine Firma gegründet. Nachdem ihr sie erfolgreich aufgebaut habt, macht euch ein Investor ein lukratives Angebot zur Übernahme eures Unternehmens. Es ist ein Angebot von 5 Millionen Euro, das ihr nicht ablehnen könnt.  \n",
    "<br>\n",
    "    \n",
    "Die große Frage kommt auf: Wer von euch bekommt eigentlich wie viel davon?  \n",
    "<br>\n",
    "\n",
    "Josephine, welche die Geschäftsidee hatte, soll 30 % des Angebots bekommen.\n",
    "Otto, der die meisten Kunden akquiriert hat, soll einen Anteil von 25 % erhalten. Der Rest wird zwischen deinem Freund Paul und dir aufgeteilt.\n",
    "Du bekommst noch einen Bonus für euren größten Firmenkunden, den du für euch gewonnen hast, in einem Wert von 400 000 Euro.  \n",
    "<br>\n",
    "Wer wird hier wohl am meisten absahnen?  \n",
    "<br>\n",
    "\n",
    "Berechne dazu die individuellen Gewinnanteile, einschließlich deines Freunds Paul und dir.  \n",
    "<br>\n",
    "\n",
    "Speichere die Summe der Gewinne in der Variable <b>profit</b> und den Wert deines Bonus' in der Variable <b>bonus</b>.  \n",
    "<br>\n",
    "\n",
    "Ergänze den untenstehenden Code. Achte dabei darauf, alle Variablennamen klein zu schreiben.  \n",
    "<br>\n",
    "\n",
    "(Den Code in der Print-Funktion kannst du zunächst ignorieren. Vielleicht kannst du auch bereits erkennen, was dort passiert? Wir kommen auf jeden Fall in einem späteren Kursteil noch ausführlicher zu dem Thema der Ausgabe-Formatierung.)\n",
    "</div>"
   ]
  },
  {
   "cell_type": "code",
   "execution_count": null,
   "metadata": {},
   "outputs": [],
   "source": [
    "\n",
    "\n",
    "josephine =  * \n",
    "otto = 0.25 * \n",
    "paul =  * \n",
    "ich =  *  + \n",
    "\n",
    "print(f'Josephine: {josephine} \\nOtto: {otto} \\nPaul: {paul} \\nIch: {ich}')"
   ]
  },
  {
   "cell_type": "code",
   "execution_count": null,
   "metadata": {},
   "outputs": [],
   "source": []
  },
  {
   "cell_type": "markdown",
   "metadata": {},
   "source": [
    "## 3.1.4.2  Monképo Go\n",
    "\n",
    "<div class=\"alert alert-block alert-warning\">\n",
    "<font size=\"3\"><b>Übung:</b></font> Bei dem Online-Spiel \"Monképo Go\" kommen hunderte Spieler aus aller Welt zusammen, um in 3er-Teams gegen üble Monster zu kämpfen und Trophäen zu sammeln. Aktuell haben sich 194 Spieler für eine neue Runde angemeldet.  \n",
    "<br>\n",
    "<b>a)</b> Initialisiere die Variable <b>players</b> entsprechend mit diesem Wert.  \n",
    "<br>\n",
    "<b>b)</b> Wie viele 3er-Teams können aus dieser Spieleranzahl gebildet werden? Führ die Berechnung dazu aus und speichere das Ergebnis in einer neuen Variable.  \n",
    "<br>\n",
    "<b>c)</b> Wie viele Spieler sind übrig, die nicht in die 3er-Teams passen? Führ auch hier die passende Berechnung aus und speichere das Ergebnis in einer weiteren Variable.  \n",
    "<br>\n",
    "<b>d)</b> Gib die Variablen aus b) und c) mittels der Print-Funktion aus.  \n",
    "<br>\n",
    "<b>e)</b> Mittlerweile haben sich 243 weitere Zocker angemeldet. Pass die Variable <b>players</b> gemäß der neuen Spieleranzahl an.  \n",
    "<br>\n",
    "<b>f)</b> Ein Update von \"Monképo Go\" ermöglicht es, dass sich Teams von bis zu 7 Spielern bilden dürfen. Wie viele 7er- und 3er-Teams können mit diesem neuen Feature gebildet werden? Ermittle die Ergebnisse mit den geeigneten Berechnungen, gib sie aus und schreib danach deine Antwort als Kommentar.  \n",
    "<br>\n",
    "Gib die Kennung der Teilaufgaben a, b, c, d, e, f als Kommentar über ihnen an.\n",
    "</div>"
   ]
  },
  {
   "cell_type": "code",
   "execution_count": null,
   "metadata": {},
   "outputs": [],
   "source": []
  },
  {
   "cell_type": "code",
   "execution_count": null,
   "metadata": {},
   "outputs": [],
   "source": []
  },
  {
   "cell_type": "markdown",
   "metadata": {},
   "source": [
    "<div class=\"alert alert-block alert-success\">\n",
    "<b>Du hast die Aufgaben gelöst? Prima!</b> Falls du Schwierigkeiten hattest, sieh dir noch einmal an, was wir in den vorherigen Einheiten durchgegangen sind.  \n",
    "<br>"
   ]
  },
  {
   "cell_type": "markdown",
   "metadata": {},
   "source": [
    "<div class=\"alert alert-block alert-success\">\n",
    "<b>Damit hast Du es dann geschafft, Gratulation!</b> Du hast soeben das erste Kapitel zu den Python-Grundlagen durchgearbeit und sehr viel gelernt. Damit du das Wichtigste gut im Kopf behalten kannst, sind hier die Kernpunkte für dich zusammengefasst:"
   ]
  },
  {
   "cell_type": "markdown",
   "metadata": {},
   "source": [
    "<div class=\"alert alert-block alert-info\">\n",
    "<h3>Das kannst du dir aus dem ersten Kapitel mitnehmen:</h3>\n",
    "\n",
    "* **mit ``=`` weist du Variablen Werte zu**, z.B.: ``x = 3``\n",
    "* Variablen können wiederum anderen Variablen zugewiesen werden, z.B.: ``result = x * x``\n",
    "* ein und dieselbe Variable kann mit neuen Werten überschrieben werden, z.B.: ``x = x +1`` (erhöht x um 1)\n",
    "* um einen numerischen Wert zu erhöhen/senken, kann der Operator genausogut vor das ``=``  geschrieben werden, z.B.:  ``x /= 2``  (teilt x durch 2)  \n",
    "<br>\n",
    "\n",
    "* **Ergebnisse erhältst du im Jupyter Notebook, indem du ...**\n",
    "    * zunächst eine neue Zelle mit <font color = green>+</font> anlegst.\n",
    "    * ganz oben auf <font color = green>Run</font> klickst: die Zelle wird ausgeführt.\n",
    "    * auf <font color = green>Strg</font> plus <font color = green>Enter</font> klickst: die Zelle wird ausgeführt (Mac: <font color = green>Command Key</font> plus <font color = green>Enter</font>).\n",
    "    * auf <font color = green>Alt</font> plus <font color = green>Enter</font> klickst: Die Zelle wird ausgeführt und automatisch eine neue Zelle darunter erstellt (Mac: <font color = green>Option</font> plus <font color = green>Enter</font>) .\n",
    "    * ``print()`` nutzt, z.B.: ``print(result)``\n",
    "    * direkt z.B. ``result`` eingibst. Damit erhältst du ein unformatiertes Ergebnis.  \n",
    "<br>\n",
    "* die **Grundrechenarten** werden mit folgenden Operatoren durchgeführt:\n",
    "    * Multiplikation: ``*``\n",
    "    * Division (ergibt **immer** Fließkommazahl): ``/``\n",
    "    * Addition: ``+``\n",
    "    * Subtraktion: ``-``  \n",
    "<br>    \n",
    "* es gibt **weitere Operatoren** für komplexere Berechnungen:\n",
    "    * Potenz (Exponent): ``**``\n",
    "    * Wurzelziehen (über Potenzierung, Ergebnistyp ist stets Float): ``x**(1/n)``\n",
    "    * Rest (Rest nach Division zweier ganzer Zahlen): ``%``\n",
    "    * Floor-Division (Ergebnistyp ist eine ganze Zahl als Float oder Integer dargestellt): ``//``  \n",
    "<br>    \n",
    "* **Ganzzahlen können zu Fließkommazahlen konvertiert werden und umgekehrt:**\n",
    "    * Eine Rechnung, in der mindestens ein Float vorkommt, ergibt immer einen Float, sonst Integer\n",
    "    * Ganzzahl zu Fließkommazahl: ``float(2)`` => 2.0\n",
    "    * Fließkommazahl zu Ganzzahl: ``int(2.0)`` => 2\n",
    "    * kennst du den Datentyp nicht, frage ihn ab mit ``type()``, z.B.: ``type(x)``  \n",
    "<br>\n",
    "* **Python rechnet ...**\n",
    "    * von links nach rechts\n",
    "    * beachtet Punkt- vor Strichrechnung\n",
    "    * priorisiert Klammern von innen nach außen, dann Potenzen, dann Punkt- vor Strichrechnung  \n",
    "<br>    \n",
    "* **Kommentare** sind in Python ...\n",
    "    * wichtig, um den Code für dich und andere verständlich zu halten\n",
    "    * einzeilig(mit 2 Leerzeichen Abstand zu nebenstehendem Code): ``  # Kommentar``\n",
    "    * mehrzeilig: ``\"\"\" Kommentar \"\"\"``  "
   ]
  }
 ],
 "metadata": {
  "kernelspec": {
   "display_name": "Python 3 (ipykernel)",
   "language": "python",
   "name": "python3"
  },
  "language_info": {
   "codemirror_mode": {
    "name": "ipython",
    "version": 3
   },
   "file_extension": ".py",
   "mimetype": "text/x-python",
   "name": "python",
   "nbconvert_exporter": "python",
   "pygments_lexer": "ipython3",
   "version": "3.13.2"
  }
 },
 "nbformat": 4,
 "nbformat_minor": 4
}
